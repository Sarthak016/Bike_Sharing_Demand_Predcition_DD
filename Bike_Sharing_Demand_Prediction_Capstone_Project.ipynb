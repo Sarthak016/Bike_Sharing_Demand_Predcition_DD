{
  "nbformat": 4,
  "nbformat_minor": 0,
  "metadata": {
    "kernelspec": {
      "display_name": "Python 3",
      "language": "python",
      "name": "python3"
    },
    "language_info": {
      "codemirror_mode": {
        "name": "ipython",
        "version": 3
      },
      "file_extension": ".py",
      "mimetype": "text/x-python",
      "name": "python",
      "nbconvert_exporter": "python",
      "pygments_lexer": "ipython3",
      "version": "3.6.6"
    },
    "colab": {
      "provenance": [],
      "collapsed_sections": [],
      "include_colab_link": true
    }
  },
  "cells": [
    {
      "cell_type": "markdown",
      "metadata": {
        "id": "view-in-github",
        "colab_type": "text"
      },
      "source": [
        "<a href=\"https://colab.research.google.com/github/Sarthak016/Bike_Sharing_Demand_Predcition_DD/blob/main/Bike_Sharing_Demand_Prediction_Capstone_Project.ipynb\" target=\"_parent\"><img src=\"https://colab.research.google.com/assets/colab-badge.svg\" alt=\"Open In Colab\"/></a>"
      ]
    },
    {
      "cell_type": "markdown",
      "metadata": {
        "id": "tOGC-qoyhJeX"
      },
      "source": [
        "# <b><u> Project Title : Seoul Bike Sharing Demand Prediction </u></b>"
      ]
    },
    {
      "cell_type": "markdown",
      "metadata": {
        "id": "Y06xIdG26kRF"
      },
      "source": [
        "## <b> Problem Description </b>\n",
        "\n",
        "### Currently Rental bikes are introduced in many urban cities for the enhancement of mobility comfort. It is important to make the rental bike available and accessible to the public at the right time as it lessens the waiting time. Eventually, providing the city with a stable supply of rental bikes becomes a major concern. The crucial part is the prediction of bike count required at each hour for the stable supply of rental bikes.\n"
      ]
    },
    {
      "cell_type": "markdown",
      "metadata": {
        "id": "AlLxAtlziMbP"
      },
      "source": [
        "## <b> Data Description </b>\n",
        "\n",
        "### <b> The dataset contains weather information (Temperature, Humidity, Windspeed, Visibility, Dewpoint, Solar radiation, Snowfall, Rainfall), the number of bikes rented per hour and date information.</b>\n",
        "\n",
        "\n",
        "### <b>Attribute Information: </b>\n",
        "\n",
        "* ### Date : year-month-day\n",
        "* ### Rented Bike count - Count of bikes rented at each hour\n",
        "* ### Hour - Hour of he day\n",
        "* ### Temperature-Temperature in Celsius\n",
        "* ### Humidity - %\n",
        "* ### Windspeed - m/s\n",
        "* ### Visibility - 10m\n",
        "* ### Dew point temperature - Celsius\n",
        "* ### Solar radiation - MJ/m2\n",
        "* ### Rainfall - mm\n",
        "* ### Snowfall - cm\n",
        "* ### Seasons - Winter, Spring, Summer, Autumn\n",
        "* ### Holiday - Holiday/No holiday\n",
        "* ### Functional Day - NoFunc(Non Functional Hours), Fun(Functional hours)"
      ]
    },
    {
      "cell_type": "markdown",
      "source": [
        "## **Import Libraries and Data** \n"
      ],
      "metadata": {
        "id": "kgLyjtZj1VTr"
      }
    },
    {
      "cell_type": "code",
      "source": [
        "# Import necessary libraries\n",
        "\n",
        "import numpy as np\n",
        "from numpy import math\n",
        "\n",
        "import matplotlib\n",
        "import seaborn as sns\n",
        "import matplotlib.pyplot as plt\n",
        "%matplotlib inline\n",
        "%load_ext google.colab.data_table\n",
        "\n",
        "import pandas as pd\n",
        "pd.pandas.set_option('display.max_columns',None)\n",
        "\n",
        "import warnings\n",
        "warnings.filterwarnings(\"ignore\")\n",
        "\n",
        "from sklearn.preprocessing import MinMaxScaler\n",
        "from sklearn.preprocessing import OneHotEncoder\n",
        "\n",
        "from sklearn.model_selection import train_test_split\n",
        "from sklearn.model_selection import RandomizedSearchCV\n",
        "from sklearn.model_selection import GridSearchCV\n",
        "from sklearn.model_selection import cross_val_score\n",
        "\n",
        "from sklearn.linear_model import LinearRegression\n",
        "from sklearn.linear_model import Ridge\n",
        "from sklearn.linear_model import Lasso\n",
        "\n",
        "from sklearn import metrics\n",
        "from sklearn.metrics import r2_score\n",
        "from sklearn.metrics import mean_squared_error\n",
        "\n",
        "from sklearn.feature_selection import SelectFromModel\n",
        "\n",
        "from sklearn import neighbors\n",
        "from sklearn.svm import SVR\n",
        "from sklearn.tree import DecisionTreeRegressor\n",
        "\n",
        "from sklearn.ensemble import RandomForestRegressor\n",
        "from sklearn.ensemble import ExtraTreesRegressor\n",
        "from sklearn.ensemble import GradientBoostingRegressor\n",
        "\n",
        "import xgboost as xgb\n",
        "from xgboost import plot_importance\n",
        "\n",
        "import lightgbm "
      ],
      "metadata": {
        "id": "oHR4cl3x0FV9",
        "outputId": "89e6e941-5809-43f4-b9ca-06c3ee24d329",
        "colab": {
          "base_uri": "https://localhost:8080/"
        }
      },
      "execution_count": 12,
      "outputs": [
        {
          "output_type": "stream",
          "name": "stdout",
          "text": [
            "The google.colab.data_table extension is already loaded. To reload it, use:\n",
            "  %reload_ext google.colab.data_table\n"
          ]
        }
      ]
    },
    {
      "cell_type": "markdown",
      "metadata": {
        "id": "hQs_EAuMr9jQ"
      },
      "source": [
        "# Download and Explore the Data\n"
      ]
    },
    {
      "cell_type": "code",
      "source": [
        "from google.colab import drive\n",
        "drive.mount('/content/drive')"
      ],
      "metadata": {
        "colab": {
          "base_uri": "https://localhost:8080/"
        },
        "id": "avkIU_WS0MqI",
        "outputId": "d422e055-a499-4aae-b5ba-2a6b9ad3b231"
      },
      "execution_count": 2,
      "outputs": [
        {
          "output_type": "stream",
          "name": "stdout",
          "text": [
            "Mounted at /content/drive\n"
          ]
        }
      ]
    },
    {
      "cell_type": "markdown",
      "metadata": {
        "id": "8SuzorCofhvV"
      },
      "source": [
        "We can now create a Pandas dataframe using the downloaded file, to view and analyze the data."
      ]
    },
    {
      "cell_type": "code",
      "source": [
        "# Read the csv file\n",
        "data=pd.read_csv(\"/content/drive/MyDrive/Capstone2/SeoulBikeData.csv\",encoding= 'unicode_escape')"
      ],
      "metadata": {
        "id": "MrVjE4u_0uJY"
      },
      "execution_count": 3,
      "outputs": []
    },
    {
      "cell_type": "code",
      "source": [
        "data"
      ],
      "metadata": {
        "id": "iR40y-_V1DgZ"
      },
      "execution_count": null,
      "outputs": []
    },
    {
      "cell_type": "markdown",
      "source": [
        "**The dataset contains 8760 rows and 14 columns. Each row of the dataset contains information about weather conditions**\n",
        "\n",
        "**Our objective is to find a way to estimate the value prediction of bike count required at each hour for the stable supply of rental bikes. using the values in the other columns. If we can do so for the historical data, then we should able to estimate bike count required at each hour.**\n",
        "\n",
        "**Let's check the data type for each column.**"
      ],
      "metadata": {
        "id": "saBw9WjJ14Az"
      }
    },
    {
      "cell_type": "code",
      "source": [
        "data.head()"
      ],
      "metadata": {
        "id": "ubjUQH1G17v0"
      },
      "execution_count": null,
      "outputs": []
    },
    {
      "cell_type": "code",
      "source": [
        "# Check for duplicated entries.\n",
        "print(\"Duplicate entry in data:\",len(data[data.duplicated()])) "
      ],
      "metadata": {
        "colab": {
          "base_uri": "https://localhost:8080/"
        },
        "id": "3uB2lAXZ2bMa",
        "outputId": "47d07cdb-34a2-4695-e7bc-972845774b24"
      },
      "execution_count": 6,
      "outputs": [
        {
          "output_type": "stream",
          "name": "stdout",
          "text": [
            "Duplicate entry in data: 0\n"
          ]
        }
      ]
    },
    {
      "cell_type": "code",
      "source": [
        "# Custom Function for Dtype,Unique values and Null values\n",
        "def datainfo():\n",
        "    temp_ps = pd.DataFrame(index=data.columns)\n",
        "    temp_ps['DataType'] = data.dtypes\n",
        "    temp_ps[\"Non-null_Values\"] = data.count()\n",
        "    temp_ps['Unique_Values'] = data.nunique()\n",
        "    temp_ps['NaN_Values'] = data.isnull().sum()\n",
        "    temp_ps['NaN_Values_Percentage'] = (temp_ps['NaN_Values']/len(data))*100 \n",
        "    return temp_ps"
      ],
      "metadata": {
        "id": "VQUsmCnW2oGE"
      },
      "execution_count": 7,
      "outputs": []
    },
    {
      "cell_type": "code",
      "source": [
        "# Shape of the data.\n",
        "print(\"Total Rows and Columns in DataFrame is :\",data.shape,\"\\n\") \n",
        "# Custom Function\n",
        "datainfo()"
      ],
      "metadata": {
        "colab": {
          "base_uri": "https://localhost:8080/",
          "height": 425
        },
        "id": "5-6OBjxy36eR",
        "outputId": "064a6c4d-7b12-482b-9929-228901d41056"
      },
      "execution_count": 8,
      "outputs": [
        {
          "output_type": "stream",
          "name": "stdout",
          "text": [
            "Total Rows and Columns in DataFrame is : (8760, 14) \n",
            "\n"
          ]
        },
        {
          "output_type": "execute_result",
          "data": {
            "text/plain": [
              "                          DataType  Non-null_Values  Unique_Values  \\\n",
              "Date                        object             8760            365   \n",
              "Rented Bike Count            int64             8760           2166   \n",
              "Hour                         int64             8760             24   \n",
              "Temperature(°C)            float64             8760            546   \n",
              "Humidity(%)                  int64             8760             90   \n",
              "Wind speed (m/s)           float64             8760             65   \n",
              "Visibility (10m)             int64             8760           1789   \n",
              "Dew point temperature(°C)  float64             8760            556   \n",
              "Solar Radiation (MJ/m2)    float64             8760            345   \n",
              "Rainfall(mm)               float64             8760             61   \n",
              "Snowfall (cm)              float64             8760             51   \n",
              "Seasons                     object             8760              4   \n",
              "Holiday                     object             8760              2   \n",
              "Functioning Day             object             8760              2   \n",
              "\n",
              "                           NaN_Values  NaN_Values_Percentage  \n",
              "Date                                0                    0.0  \n",
              "Rented Bike Count                   0                    0.0  \n",
              "Hour                                0                    0.0  \n",
              "Temperature(°C)                     0                    0.0  \n",
              "Humidity(%)                         0                    0.0  \n",
              "Wind speed (m/s)                    0                    0.0  \n",
              "Visibility (10m)                    0                    0.0  \n",
              "Dew point temperature(°C)           0                    0.0  \n",
              "Solar Radiation (MJ/m2)             0                    0.0  \n",
              "Rainfall(mm)                        0                    0.0  \n",
              "Snowfall (cm)                       0                    0.0  \n",
              "Seasons                             0                    0.0  \n",
              "Holiday                             0                    0.0  \n",
              "Functioning Day                     0                    0.0  "
            ],
            "text/html": [
              "\n",
              "  <div id=\"df-923c8d3a-4b3b-4f25-9bac-19a532c7fb1d\">\n",
              "    <div class=\"colab-df-container\">\n",
              "      <div>\n",
              "<style scoped>\n",
              "    .dataframe tbody tr th:only-of-type {\n",
              "        vertical-align: middle;\n",
              "    }\n",
              "\n",
              "    .dataframe tbody tr th {\n",
              "        vertical-align: top;\n",
              "    }\n",
              "\n",
              "    .dataframe thead th {\n",
              "        text-align: right;\n",
              "    }\n",
              "</style>\n",
              "<table border=\"1\" class=\"dataframe\">\n",
              "  <thead>\n",
              "    <tr style=\"text-align: right;\">\n",
              "      <th></th>\n",
              "      <th>DataType</th>\n",
              "      <th>Non-null_Values</th>\n",
              "      <th>Unique_Values</th>\n",
              "      <th>NaN_Values</th>\n",
              "      <th>NaN_Values_Percentage</th>\n",
              "    </tr>\n",
              "  </thead>\n",
              "  <tbody>\n",
              "    <tr>\n",
              "      <th>Date</th>\n",
              "      <td>object</td>\n",
              "      <td>8760</td>\n",
              "      <td>365</td>\n",
              "      <td>0</td>\n",
              "      <td>0.0</td>\n",
              "    </tr>\n",
              "    <tr>\n",
              "      <th>Rented Bike Count</th>\n",
              "      <td>int64</td>\n",
              "      <td>8760</td>\n",
              "      <td>2166</td>\n",
              "      <td>0</td>\n",
              "      <td>0.0</td>\n",
              "    </tr>\n",
              "    <tr>\n",
              "      <th>Hour</th>\n",
              "      <td>int64</td>\n",
              "      <td>8760</td>\n",
              "      <td>24</td>\n",
              "      <td>0</td>\n",
              "      <td>0.0</td>\n",
              "    </tr>\n",
              "    <tr>\n",
              "      <th>Temperature(°C)</th>\n",
              "      <td>float64</td>\n",
              "      <td>8760</td>\n",
              "      <td>546</td>\n",
              "      <td>0</td>\n",
              "      <td>0.0</td>\n",
              "    </tr>\n",
              "    <tr>\n",
              "      <th>Humidity(%)</th>\n",
              "      <td>int64</td>\n",
              "      <td>8760</td>\n",
              "      <td>90</td>\n",
              "      <td>0</td>\n",
              "      <td>0.0</td>\n",
              "    </tr>\n",
              "    <tr>\n",
              "      <th>Wind speed (m/s)</th>\n",
              "      <td>float64</td>\n",
              "      <td>8760</td>\n",
              "      <td>65</td>\n",
              "      <td>0</td>\n",
              "      <td>0.0</td>\n",
              "    </tr>\n",
              "    <tr>\n",
              "      <th>Visibility (10m)</th>\n",
              "      <td>int64</td>\n",
              "      <td>8760</td>\n",
              "      <td>1789</td>\n",
              "      <td>0</td>\n",
              "      <td>0.0</td>\n",
              "    </tr>\n",
              "    <tr>\n",
              "      <th>Dew point temperature(°C)</th>\n",
              "      <td>float64</td>\n",
              "      <td>8760</td>\n",
              "      <td>556</td>\n",
              "      <td>0</td>\n",
              "      <td>0.0</td>\n",
              "    </tr>\n",
              "    <tr>\n",
              "      <th>Solar Radiation (MJ/m2)</th>\n",
              "      <td>float64</td>\n",
              "      <td>8760</td>\n",
              "      <td>345</td>\n",
              "      <td>0</td>\n",
              "      <td>0.0</td>\n",
              "    </tr>\n",
              "    <tr>\n",
              "      <th>Rainfall(mm)</th>\n",
              "      <td>float64</td>\n",
              "      <td>8760</td>\n",
              "      <td>61</td>\n",
              "      <td>0</td>\n",
              "      <td>0.0</td>\n",
              "    </tr>\n",
              "    <tr>\n",
              "      <th>Snowfall (cm)</th>\n",
              "      <td>float64</td>\n",
              "      <td>8760</td>\n",
              "      <td>51</td>\n",
              "      <td>0</td>\n",
              "      <td>0.0</td>\n",
              "    </tr>\n",
              "    <tr>\n",
              "      <th>Seasons</th>\n",
              "      <td>object</td>\n",
              "      <td>8760</td>\n",
              "      <td>4</td>\n",
              "      <td>0</td>\n",
              "      <td>0.0</td>\n",
              "    </tr>\n",
              "    <tr>\n",
              "      <th>Holiday</th>\n",
              "      <td>object</td>\n",
              "      <td>8760</td>\n",
              "      <td>2</td>\n",
              "      <td>0</td>\n",
              "      <td>0.0</td>\n",
              "    </tr>\n",
              "    <tr>\n",
              "      <th>Functioning Day</th>\n",
              "      <td>object</td>\n",
              "      <td>8760</td>\n",
              "      <td>2</td>\n",
              "      <td>0</td>\n",
              "      <td>0.0</td>\n",
              "    </tr>\n",
              "  </tbody>\n",
              "</table>\n",
              "</div>\n",
              "      <button class=\"colab-df-convert\" onclick=\"convertToInteractive('df-923c8d3a-4b3b-4f25-9bac-19a532c7fb1d')\"\n",
              "              title=\"Convert this dataframe to an interactive table.\"\n",
              "              style=\"display:none;\">\n",
              "        \n",
              "  <svg xmlns=\"http://www.w3.org/2000/svg\" height=\"24px\"viewBox=\"0 0 24 24\"\n",
              "       width=\"24px\">\n",
              "    <path d=\"M0 0h24v24H0V0z\" fill=\"none\"/>\n",
              "    <path d=\"M18.56 5.44l.94 2.06.94-2.06 2.06-.94-2.06-.94-.94-2.06-.94 2.06-2.06.94zm-11 1L8.5 8.5l.94-2.06 2.06-.94-2.06-.94L8.5 2.5l-.94 2.06-2.06.94zm10 10l.94 2.06.94-2.06 2.06-.94-2.06-.94-.94-2.06-.94 2.06-2.06.94z\"/><path d=\"M17.41 7.96l-1.37-1.37c-.4-.4-.92-.59-1.43-.59-.52 0-1.04.2-1.43.59L10.3 9.45l-7.72 7.72c-.78.78-.78 2.05 0 2.83L4 21.41c.39.39.9.59 1.41.59.51 0 1.02-.2 1.41-.59l7.78-7.78 2.81-2.81c.8-.78.8-2.07 0-2.86zM5.41 20L4 18.59l7.72-7.72 1.47 1.35L5.41 20z\"/>\n",
              "  </svg>\n",
              "      </button>\n",
              "      \n",
              "  <style>\n",
              "    .colab-df-container {\n",
              "      display:flex;\n",
              "      flex-wrap:wrap;\n",
              "      gap: 12px;\n",
              "    }\n",
              "\n",
              "    .colab-df-convert {\n",
              "      background-color: #E8F0FE;\n",
              "      border: none;\n",
              "      border-radius: 50%;\n",
              "      cursor: pointer;\n",
              "      display: none;\n",
              "      fill: #1967D2;\n",
              "      height: 32px;\n",
              "      padding: 0 0 0 0;\n",
              "      width: 32px;\n",
              "    }\n",
              "\n",
              "    .colab-df-convert:hover {\n",
              "      background-color: #E2EBFA;\n",
              "      box-shadow: 0px 1px 2px rgba(60, 64, 67, 0.3), 0px 1px 3px 1px rgba(60, 64, 67, 0.15);\n",
              "      fill: #174EA6;\n",
              "    }\n",
              "\n",
              "    [theme=dark] .colab-df-convert {\n",
              "      background-color: #3B4455;\n",
              "      fill: #D2E3FC;\n",
              "    }\n",
              "\n",
              "    [theme=dark] .colab-df-convert:hover {\n",
              "      background-color: #434B5C;\n",
              "      box-shadow: 0px 1px 3px 1px rgba(0, 0, 0, 0.15);\n",
              "      filter: drop-shadow(0px 1px 2px rgba(0, 0, 0, 0.3));\n",
              "      fill: #FFFFFF;\n",
              "    }\n",
              "  </style>\n",
              "\n",
              "      <script>\n",
              "        const buttonEl =\n",
              "          document.querySelector('#df-923c8d3a-4b3b-4f25-9bac-19a532c7fb1d button.colab-df-convert');\n",
              "        buttonEl.style.display =\n",
              "          google.colab.kernel.accessAllowed ? 'block' : 'none';\n",
              "\n",
              "        async function convertToInteractive(key) {\n",
              "          const element = document.querySelector('#df-923c8d3a-4b3b-4f25-9bac-19a532c7fb1d');\n",
              "          const dataTable =\n",
              "            await google.colab.kernel.invokeFunction('convertToInteractive',\n",
              "                                                     [key], {});\n",
              "          if (!dataTable) return;\n",
              "\n",
              "          const docLinkHtml = 'Like what you see? Visit the ' +\n",
              "            '<a target=\"_blank\" href=https://colab.research.google.com/notebooks/data_table.ipynb>data table notebook</a>'\n",
              "            + ' to learn more about interactive tables.';\n",
              "          element.innerHTML = '';\n",
              "          dataTable['output_type'] = 'display_data';\n",
              "          await google.colab.output.renderOutput(dataTable, element);\n",
              "          const docLink = document.createElement('div');\n",
              "          docLink.innerHTML = docLinkHtml;\n",
              "          element.appendChild(docLink);\n",
              "        }\n",
              "      </script>\n",
              "    </div>\n",
              "  </div>\n",
              "  "
            ],
            "application/vnd.google.colaboratory.module+javascript": "\n      import \"https://ssl.gstatic.com/colaboratory/data_table/a8bd4d5e58f96183/data_table.js\";\n\n      window.createDataTable({\n        data: [[\"Date\",\n\"object\",\n{\n            'v': 8760,\n            'f': \"8760\",\n        },\n{\n            'v': 365,\n            'f': \"365\",\n        },\n{\n            'v': 0,\n            'f': \"0\",\n        },\n{\n            'v': 0.0,\n            'f': \"0.0\",\n        }],\n [\"Rented Bike Count\",\n\"int64\",\n{\n            'v': 8760,\n            'f': \"8760\",\n        },\n{\n            'v': 2166,\n            'f': \"2166\",\n        },\n{\n            'v': 0,\n            'f': \"0\",\n        },\n{\n            'v': 0.0,\n            'f': \"0.0\",\n        }],\n [\"Hour\",\n\"int64\",\n{\n            'v': 8760,\n            'f': \"8760\",\n        },\n{\n            'v': 24,\n            'f': \"24\",\n        },\n{\n            'v': 0,\n            'f': \"0\",\n        },\n{\n            'v': 0.0,\n            'f': \"0.0\",\n        }],\n [\"Temperature(\\u00b0C)\",\n\"float64\",\n{\n            'v': 8760,\n            'f': \"8760\",\n        },\n{\n            'v': 546,\n            'f': \"546\",\n        },\n{\n            'v': 0,\n            'f': \"0\",\n        },\n{\n            'v': 0.0,\n            'f': \"0.0\",\n        }],\n [\"Humidity(%)\",\n\"int64\",\n{\n            'v': 8760,\n            'f': \"8760\",\n        },\n{\n            'v': 90,\n            'f': \"90\",\n        },\n{\n            'v': 0,\n            'f': \"0\",\n        },\n{\n            'v': 0.0,\n            'f': \"0.0\",\n        }],\n [\"Wind speed (m/s)\",\n\"float64\",\n{\n            'v': 8760,\n            'f': \"8760\",\n        },\n{\n            'v': 65,\n            'f': \"65\",\n        },\n{\n            'v': 0,\n            'f': \"0\",\n        },\n{\n            'v': 0.0,\n            'f': \"0.0\",\n        }],\n [\"Visibility (10m)\",\n\"int64\",\n{\n            'v': 8760,\n            'f': \"8760\",\n        },\n{\n            'v': 1789,\n            'f': \"1789\",\n        },\n{\n            'v': 0,\n            'f': \"0\",\n        },\n{\n            'v': 0.0,\n            'f': \"0.0\",\n        }],\n [\"Dew point temperature(\\u00b0C)\",\n\"float64\",\n{\n            'v': 8760,\n            'f': \"8760\",\n        },\n{\n            'v': 556,\n            'f': \"556\",\n        },\n{\n            'v': 0,\n            'f': \"0\",\n        },\n{\n            'v': 0.0,\n            'f': \"0.0\",\n        }],\n [\"Solar Radiation (MJ/m2)\",\n\"float64\",\n{\n            'v': 8760,\n            'f': \"8760\",\n        },\n{\n            'v': 345,\n            'f': \"345\",\n        },\n{\n            'v': 0,\n            'f': \"0\",\n        },\n{\n            'v': 0.0,\n            'f': \"0.0\",\n        }],\n [\"Rainfall(mm)\",\n\"float64\",\n{\n            'v': 8760,\n            'f': \"8760\",\n        },\n{\n            'v': 61,\n            'f': \"61\",\n        },\n{\n            'v': 0,\n            'f': \"0\",\n        },\n{\n            'v': 0.0,\n            'f': \"0.0\",\n        }],\n [\"Snowfall (cm)\",\n\"float64\",\n{\n            'v': 8760,\n            'f': \"8760\",\n        },\n{\n            'v': 51,\n            'f': \"51\",\n        },\n{\n            'v': 0,\n            'f': \"0\",\n        },\n{\n            'v': 0.0,\n            'f': \"0.0\",\n        }],\n [\"Seasons\",\n\"object\",\n{\n            'v': 8760,\n            'f': \"8760\",\n        },\n{\n            'v': 4,\n            'f': \"4\",\n        },\n{\n            'v': 0,\n            'f': \"0\",\n        },\n{\n            'v': 0.0,\n            'f': \"0.0\",\n        }],\n [\"Holiday\",\n\"object\",\n{\n            'v': 8760,\n            'f': \"8760\",\n        },\n{\n            'v': 2,\n            'f': \"2\",\n        },\n{\n            'v': 0,\n            'f': \"0\",\n        },\n{\n            'v': 0.0,\n            'f': \"0.0\",\n        }],\n [\"Functioning Day\",\n\"object\",\n{\n            'v': 8760,\n            'f': \"8760\",\n        },\n{\n            'v': 2,\n            'f': \"2\",\n        },\n{\n            'v': 0,\n            'f': \"0\",\n        },\n{\n            'v': 0.0,\n            'f': \"0.0\",\n        }]],\n        columns: [[\"string\", \"index\"], [\"string\", \"DataType\"], [\"number\", \"Non-null_Values\"], [\"number\", \"Unique_Values\"], [\"number\", \"NaN_Values\"], [\"number\", \"NaN_Values_Percentage\"]],\n        columnOptions: [{\"width\": \"1px\", \"className\": \"index_column\"}],\n        rowsPerPage: 25,\n        helpUrl: \"https://colab.research.google.com/notebooks/data_table.ipynb\",\n        suppressOutputScrolling: true,\n        minimumWidth: undefined,\n      });\n    "
          },
          "metadata": {},
          "execution_count": 8
        }
      ]
    },
    {
      "cell_type": "markdown",
      "metadata": {
        "id": "o62e8hbZiJNA"
      },
      "source": [
        "Looks like \"Seasons\", \"Holiday\", \"Functioning Day\" are strings (possibly categories) and rest columns are numerical data. None of the columns contain any missing values, which saves us a fair bit of work!\n",
        "\n",
        "Here are some statistics for the numerical columns:"
      ]
    },
    {
      "cell_type": "code",
      "source": [
        "data.describe().T"
      ],
      "metadata": {
        "colab": {
          "base_uri": "https://localhost:8080/",
          "height": 304
        },
        "id": "y-Cx_uzO8mYp",
        "outputId": "efa2f870-2580-46ac-f519-11261bed578e"
      },
      "execution_count": 9,
      "outputs": [
        {
          "output_type": "execute_result",
          "data": {
            "text/plain": [
              "                            count         mean         std   min     25%  \\\n",
              "Rented Bike Count          8760.0   704.602055  644.997468   0.0  191.00   \n",
              "Hour                       8760.0    11.500000    6.922582   0.0    5.75   \n",
              "Temperature(°C)            8760.0    12.882922   11.944825 -17.8    3.50   \n",
              "Humidity(%)                8760.0    58.226256   20.362413   0.0   42.00   \n",
              "Wind speed (m/s)           8760.0     1.724909    1.036300   0.0    0.90   \n",
              "Visibility (10m)           8760.0  1436.825799  608.298712  27.0  940.00   \n",
              "Dew point temperature(°C)  8760.0     4.073813   13.060369 -30.6   -4.70   \n",
              "Solar Radiation (MJ/m2)    8760.0     0.569111    0.868746   0.0    0.00   \n",
              "Rainfall(mm)               8760.0     0.148687    1.128193   0.0    0.00   \n",
              "Snowfall (cm)              8760.0     0.075068    0.436746   0.0    0.00   \n",
              "\n",
              "                               50%      75%      max  \n",
              "Rented Bike Count           504.50  1065.25  3556.00  \n",
              "Hour                         11.50    17.25    23.00  \n",
              "Temperature(°C)              13.70    22.50    39.40  \n",
              "Humidity(%)                  57.00    74.00    98.00  \n",
              "Wind speed (m/s)              1.50     2.30     7.40  \n",
              "Visibility (10m)           1698.00  2000.00  2000.00  \n",
              "Dew point temperature(°C)     5.10    14.80    27.20  \n",
              "Solar Radiation (MJ/m2)       0.01     0.93     3.52  \n",
              "Rainfall(mm)                  0.00     0.00    35.00  \n",
              "Snowfall (cm)                 0.00     0.00     8.80  "
            ],
            "text/html": [
              "\n",
              "  <div id=\"df-52caab62-40a0-42ed-9d65-347fdb22d87a\">\n",
              "    <div class=\"colab-df-container\">\n",
              "      <div>\n",
              "<style scoped>\n",
              "    .dataframe tbody tr th:only-of-type {\n",
              "        vertical-align: middle;\n",
              "    }\n",
              "\n",
              "    .dataframe tbody tr th {\n",
              "        vertical-align: top;\n",
              "    }\n",
              "\n",
              "    .dataframe thead th {\n",
              "        text-align: right;\n",
              "    }\n",
              "</style>\n",
              "<table border=\"1\" class=\"dataframe\">\n",
              "  <thead>\n",
              "    <tr style=\"text-align: right;\">\n",
              "      <th></th>\n",
              "      <th>count</th>\n",
              "      <th>mean</th>\n",
              "      <th>std</th>\n",
              "      <th>min</th>\n",
              "      <th>25%</th>\n",
              "      <th>50%</th>\n",
              "      <th>75%</th>\n",
              "      <th>max</th>\n",
              "    </tr>\n",
              "  </thead>\n",
              "  <tbody>\n",
              "    <tr>\n",
              "      <th>Rented Bike Count</th>\n",
              "      <td>8760.0</td>\n",
              "      <td>704.602055</td>\n",
              "      <td>644.997468</td>\n",
              "      <td>0.0</td>\n",
              "      <td>191.00</td>\n",
              "      <td>504.50</td>\n",
              "      <td>1065.25</td>\n",
              "      <td>3556.00</td>\n",
              "    </tr>\n",
              "    <tr>\n",
              "      <th>Hour</th>\n",
              "      <td>8760.0</td>\n",
              "      <td>11.500000</td>\n",
              "      <td>6.922582</td>\n",
              "      <td>0.0</td>\n",
              "      <td>5.75</td>\n",
              "      <td>11.50</td>\n",
              "      <td>17.25</td>\n",
              "      <td>23.00</td>\n",
              "    </tr>\n",
              "    <tr>\n",
              "      <th>Temperature(°C)</th>\n",
              "      <td>8760.0</td>\n",
              "      <td>12.882922</td>\n",
              "      <td>11.944825</td>\n",
              "      <td>-17.8</td>\n",
              "      <td>3.50</td>\n",
              "      <td>13.70</td>\n",
              "      <td>22.50</td>\n",
              "      <td>39.40</td>\n",
              "    </tr>\n",
              "    <tr>\n",
              "      <th>Humidity(%)</th>\n",
              "      <td>8760.0</td>\n",
              "      <td>58.226256</td>\n",
              "      <td>20.362413</td>\n",
              "      <td>0.0</td>\n",
              "      <td>42.00</td>\n",
              "      <td>57.00</td>\n",
              "      <td>74.00</td>\n",
              "      <td>98.00</td>\n",
              "    </tr>\n",
              "    <tr>\n",
              "      <th>Wind speed (m/s)</th>\n",
              "      <td>8760.0</td>\n",
              "      <td>1.724909</td>\n",
              "      <td>1.036300</td>\n",
              "      <td>0.0</td>\n",
              "      <td>0.90</td>\n",
              "      <td>1.50</td>\n",
              "      <td>2.30</td>\n",
              "      <td>7.40</td>\n",
              "    </tr>\n",
              "    <tr>\n",
              "      <th>Visibility (10m)</th>\n",
              "      <td>8760.0</td>\n",
              "      <td>1436.825799</td>\n",
              "      <td>608.298712</td>\n",
              "      <td>27.0</td>\n",
              "      <td>940.00</td>\n",
              "      <td>1698.00</td>\n",
              "      <td>2000.00</td>\n",
              "      <td>2000.00</td>\n",
              "    </tr>\n",
              "    <tr>\n",
              "      <th>Dew point temperature(°C)</th>\n",
              "      <td>8760.0</td>\n",
              "      <td>4.073813</td>\n",
              "      <td>13.060369</td>\n",
              "      <td>-30.6</td>\n",
              "      <td>-4.70</td>\n",
              "      <td>5.10</td>\n",
              "      <td>14.80</td>\n",
              "      <td>27.20</td>\n",
              "    </tr>\n",
              "    <tr>\n",
              "      <th>Solar Radiation (MJ/m2)</th>\n",
              "      <td>8760.0</td>\n",
              "      <td>0.569111</td>\n",
              "      <td>0.868746</td>\n",
              "      <td>0.0</td>\n",
              "      <td>0.00</td>\n",
              "      <td>0.01</td>\n",
              "      <td>0.93</td>\n",
              "      <td>3.52</td>\n",
              "    </tr>\n",
              "    <tr>\n",
              "      <th>Rainfall(mm)</th>\n",
              "      <td>8760.0</td>\n",
              "      <td>0.148687</td>\n",
              "      <td>1.128193</td>\n",
              "      <td>0.0</td>\n",
              "      <td>0.00</td>\n",
              "      <td>0.00</td>\n",
              "      <td>0.00</td>\n",
              "      <td>35.00</td>\n",
              "    </tr>\n",
              "    <tr>\n",
              "      <th>Snowfall (cm)</th>\n",
              "      <td>8760.0</td>\n",
              "      <td>0.075068</td>\n",
              "      <td>0.436746</td>\n",
              "      <td>0.0</td>\n",
              "      <td>0.00</td>\n",
              "      <td>0.00</td>\n",
              "      <td>0.00</td>\n",
              "      <td>8.80</td>\n",
              "    </tr>\n",
              "  </tbody>\n",
              "</table>\n",
              "</div>\n",
              "      <button class=\"colab-df-convert\" onclick=\"convertToInteractive('df-52caab62-40a0-42ed-9d65-347fdb22d87a')\"\n",
              "              title=\"Convert this dataframe to an interactive table.\"\n",
              "              style=\"display:none;\">\n",
              "        \n",
              "  <svg xmlns=\"http://www.w3.org/2000/svg\" height=\"24px\"viewBox=\"0 0 24 24\"\n",
              "       width=\"24px\">\n",
              "    <path d=\"M0 0h24v24H0V0z\" fill=\"none\"/>\n",
              "    <path d=\"M18.56 5.44l.94 2.06.94-2.06 2.06-.94-2.06-.94-.94-2.06-.94 2.06-2.06.94zm-11 1L8.5 8.5l.94-2.06 2.06-.94-2.06-.94L8.5 2.5l-.94 2.06-2.06.94zm10 10l.94 2.06.94-2.06 2.06-.94-2.06-.94-.94-2.06-.94 2.06-2.06.94z\"/><path d=\"M17.41 7.96l-1.37-1.37c-.4-.4-.92-.59-1.43-.59-.52 0-1.04.2-1.43.59L10.3 9.45l-7.72 7.72c-.78.78-.78 2.05 0 2.83L4 21.41c.39.39.9.59 1.41.59.51 0 1.02-.2 1.41-.59l7.78-7.78 2.81-2.81c.8-.78.8-2.07 0-2.86zM5.41 20L4 18.59l7.72-7.72 1.47 1.35L5.41 20z\"/>\n",
              "  </svg>\n",
              "      </button>\n",
              "      \n",
              "  <style>\n",
              "    .colab-df-container {\n",
              "      display:flex;\n",
              "      flex-wrap:wrap;\n",
              "      gap: 12px;\n",
              "    }\n",
              "\n",
              "    .colab-df-convert {\n",
              "      background-color: #E8F0FE;\n",
              "      border: none;\n",
              "      border-radius: 50%;\n",
              "      cursor: pointer;\n",
              "      display: none;\n",
              "      fill: #1967D2;\n",
              "      height: 32px;\n",
              "      padding: 0 0 0 0;\n",
              "      width: 32px;\n",
              "    }\n",
              "\n",
              "    .colab-df-convert:hover {\n",
              "      background-color: #E2EBFA;\n",
              "      box-shadow: 0px 1px 2px rgba(60, 64, 67, 0.3), 0px 1px 3px 1px rgba(60, 64, 67, 0.15);\n",
              "      fill: #174EA6;\n",
              "    }\n",
              "\n",
              "    [theme=dark] .colab-df-convert {\n",
              "      background-color: #3B4455;\n",
              "      fill: #D2E3FC;\n",
              "    }\n",
              "\n",
              "    [theme=dark] .colab-df-convert:hover {\n",
              "      background-color: #434B5C;\n",
              "      box-shadow: 0px 1px 3px 1px rgba(0, 0, 0, 0.15);\n",
              "      filter: drop-shadow(0px 1px 2px rgba(0, 0, 0, 0.3));\n",
              "      fill: #FFFFFF;\n",
              "    }\n",
              "  </style>\n",
              "\n",
              "      <script>\n",
              "        const buttonEl =\n",
              "          document.querySelector('#df-52caab62-40a0-42ed-9d65-347fdb22d87a button.colab-df-convert');\n",
              "        buttonEl.style.display =\n",
              "          google.colab.kernel.accessAllowed ? 'block' : 'none';\n",
              "\n",
              "        async function convertToInteractive(key) {\n",
              "          const element = document.querySelector('#df-52caab62-40a0-42ed-9d65-347fdb22d87a');\n",
              "          const dataTable =\n",
              "            await google.colab.kernel.invokeFunction('convertToInteractive',\n",
              "                                                     [key], {});\n",
              "          if (!dataTable) return;\n",
              "\n",
              "          const docLinkHtml = 'Like what you see? Visit the ' +\n",
              "            '<a target=\"_blank\" href=https://colab.research.google.com/notebooks/data_table.ipynb>data table notebook</a>'\n",
              "            + ' to learn more about interactive tables.';\n",
              "          element.innerHTML = '';\n",
              "          dataTable['output_type'] = 'display_data';\n",
              "          await google.colab.output.renderOutput(dataTable, element);\n",
              "          const docLink = document.createElement('div');\n",
              "          docLink.innerHTML = docLinkHtml;\n",
              "          element.appendChild(docLink);\n",
              "        }\n",
              "      </script>\n",
              "    </div>\n",
              "  </div>\n",
              "  "
            ],
            "application/vnd.google.colaboratory.module+javascript": "\n      import \"https://ssl.gstatic.com/colaboratory/data_table/a8bd4d5e58f96183/data_table.js\";\n\n      window.createDataTable({\n        data: [[\"Rented Bike Count\",\n{\n            'v': 8760.0,\n            'f': \"8760.0\",\n        },\n{\n            'v': 704.6020547945205,\n            'f': \"704.6020547945205\",\n        },\n{\n            'v': 644.9974677392156,\n            'f': \"644.9974677392156\",\n        },\n{\n            'v': 0.0,\n            'f': \"0.0\",\n        },\n{\n            'v': 191.0,\n            'f': \"191.0\",\n        },\n{\n            'v': 504.5,\n            'f': \"504.5\",\n        },\n{\n            'v': 1065.25,\n            'f': \"1065.25\",\n        },\n{\n            'v': 3556.0,\n            'f': \"3556.0\",\n        }],\n [\"Hour\",\n{\n            'v': 8760.0,\n            'f': \"8760.0\",\n        },\n{\n            'v': 11.5,\n            'f': \"11.5\",\n        },\n{\n            'v': 6.922581688234342,\n            'f': \"6.922581688234342\",\n        },\n{\n            'v': 0.0,\n            'f': \"0.0\",\n        },\n{\n            'v': 5.75,\n            'f': \"5.75\",\n        },\n{\n            'v': 11.5,\n            'f': \"11.5\",\n        },\n{\n            'v': 17.25,\n            'f': \"17.25\",\n        },\n{\n            'v': 23.0,\n            'f': \"23.0\",\n        }],\n [\"Temperature(\\u00b0C)\",\n{\n            'v': 8760.0,\n            'f': \"8760.0\",\n        },\n{\n            'v': 12.882922374429223,\n            'f': \"12.882922374429223\",\n        },\n{\n            'v': 11.944825230027947,\n            'f': \"11.944825230027947\",\n        },\n{\n            'v': -17.8,\n            'f': \"-17.8\",\n        },\n{\n            'v': 3.5,\n            'f': \"3.5\",\n        },\n{\n            'v': 13.7,\n            'f': \"13.7\",\n        },\n{\n            'v': 22.5,\n            'f': \"22.5\",\n        },\n{\n            'v': 39.4,\n            'f': \"39.4\",\n        }],\n [\"Humidity(%)\",\n{\n            'v': 8760.0,\n            'f': \"8760.0\",\n        },\n{\n            'v': 58.226255707762554,\n            'f': \"58.226255707762554\",\n        },\n{\n            'v': 20.36241330156561,\n            'f': \"20.36241330156561\",\n        },\n{\n            'v': 0.0,\n            'f': \"0.0\",\n        },\n{\n            'v': 42.0,\n            'f': \"42.0\",\n        },\n{\n            'v': 57.0,\n            'f': \"57.0\",\n        },\n{\n            'v': 74.0,\n            'f': \"74.0\",\n        },\n{\n            'v': 98.0,\n            'f': \"98.0\",\n        }],\n [\"Wind speed (m/s)\",\n{\n            'v': 8760.0,\n            'f': \"8760.0\",\n        },\n{\n            'v': 1.7249086757990868,\n            'f': \"1.7249086757990868\",\n        },\n{\n            'v': 1.0362999934025559,\n            'f': \"1.0362999934025559\",\n        },\n{\n            'v': 0.0,\n            'f': \"0.0\",\n        },\n{\n            'v': 0.9,\n            'f': \"0.9\",\n        },\n{\n            'v': 1.5,\n            'f': \"1.5\",\n        },\n{\n            'v': 2.3,\n            'f': \"2.3\",\n        },\n{\n            'v': 7.4,\n            'f': \"7.4\",\n        }],\n [\"Visibility (10m)\",\n{\n            'v': 8760.0,\n            'f': \"8760.0\",\n        },\n{\n            'v': 1436.825799086758,\n            'f': \"1436.825799086758\",\n        },\n{\n            'v': 608.298711984019,\n            'f': \"608.298711984019\",\n        },\n{\n            'v': 27.0,\n            'f': \"27.0\",\n        },\n{\n            'v': 940.0,\n            'f': \"940.0\",\n        },\n{\n            'v': 1698.0,\n            'f': \"1698.0\",\n        },\n{\n            'v': 2000.0,\n            'f': \"2000.0\",\n        },\n{\n            'v': 2000.0,\n            'f': \"2000.0\",\n        }],\n [\"Dew point temperature(\\u00b0C)\",\n{\n            'v': 8760.0,\n            'f': \"8760.0\",\n        },\n{\n            'v': 4.073812785388128,\n            'f': \"4.073812785388128\",\n        },\n{\n            'v': 13.06036933814979,\n            'f': \"13.06036933814979\",\n        },\n{\n            'v': -30.6,\n            'f': \"-30.6\",\n        },\n{\n            'v': -4.7,\n            'f': \"-4.7\",\n        },\n{\n            'v': 5.1,\n            'f': \"5.1\",\n        },\n{\n            'v': 14.8,\n            'f': \"14.8\",\n        },\n{\n            'v': 27.2,\n            'f': \"27.2\",\n        }],\n [\"Solar Radiation (MJ/m2)\",\n{\n            'v': 8760.0,\n            'f': \"8760.0\",\n        },\n{\n            'v': 0.5691107305936072,\n            'f': \"0.5691107305936072\",\n        },\n{\n            'v': 0.8687462422391533,\n            'f': \"0.8687462422391533\",\n        },\n{\n            'v': 0.0,\n            'f': \"0.0\",\n        },\n{\n            'v': 0.0,\n            'f': \"0.0\",\n        },\n{\n            'v': 0.01,\n            'f': \"0.01\",\n        },\n{\n            'v': 0.93,\n            'f': \"0.93\",\n        },\n{\n            'v': 3.52,\n            'f': \"3.52\",\n        }],\n [\"Rainfall(mm)\",\n{\n            'v': 8760.0,\n            'f': \"8760.0\",\n        },\n{\n            'v': 0.14868721461187215,\n            'f': \"0.14868721461187215\",\n        },\n{\n            'v': 1.1281929687321486,\n            'f': \"1.1281929687321486\",\n        },\n{\n            'v': 0.0,\n            'f': \"0.0\",\n        },\n{\n            'v': 0.0,\n            'f': \"0.0\",\n        },\n{\n            'v': 0.0,\n            'f': \"0.0\",\n        },\n{\n            'v': 0.0,\n            'f': \"0.0\",\n        },\n{\n            'v': 35.0,\n            'f': \"35.0\",\n        }],\n [\"Snowfall (cm)\",\n{\n            'v': 8760.0,\n            'f': \"8760.0\",\n        },\n{\n            'v': 0.07506849315068494,\n            'f': \"0.07506849315068494\",\n        },\n{\n            'v': 0.4367461811249922,\n            'f': \"0.4367461811249922\",\n        },\n{\n            'v': 0.0,\n            'f': \"0.0\",\n        },\n{\n            'v': 0.0,\n            'f': \"0.0\",\n        },\n{\n            'v': 0.0,\n            'f': \"0.0\",\n        },\n{\n            'v': 0.0,\n            'f': \"0.0\",\n        },\n{\n            'v': 8.8,\n            'f': \"8.8\",\n        }]],\n        columns: [[\"string\", \"index\"], [\"number\", \"count\"], [\"number\", \"mean\"], [\"number\", \"std\"], [\"number\", \"min\"], [\"number\", \"25%\"], [\"number\", \"50%\"], [\"number\", \"75%\"], [\"number\", \"max\"]],\n        columnOptions: [{\"width\": \"1px\", \"className\": \"index_column\"}],\n        rowsPerPage: 25,\n        helpUrl: \"https://colab.research.google.com/notebooks/data_table.ipynb\",\n        suppressOutputScrolling: true,\n        minimumWidth: undefined,\n      });\n    "
          },
          "metadata": {},
          "execution_count": 9
        }
      ]
    },
    {
      "cell_type": "markdown",
      "metadata": {
        "id": "orVRxE3FibUn"
      },
      "source": [
        "The ranges of values in the numerical columns seem reasonable too, so we may not have to do much data cleaning or correction. The \"Wind speed\",\"Dew point temperature(°C)\", \"Solar Radiation\", \"Rainfall\" and \"Snowfall\" column seems to be significantly skewed however, as the median (50 percentile) is much lower than the maximum value."
      ]
    },
    {
      "cell_type": "markdown",
      "metadata": {
        "id": "lA8ioyb6jFxv"
      },
      "source": [
        "## Exploratory Analysis and Visualization\n",
        "\n",
        "Let's explore the data by visualizing the distribution of values in some columns of the dataset, and the relationships between \"Rented Bike count\" and other columns."
      ]
    },
    {
      "cell_type": "markdown",
      "source": [
        "We'll use libraries Matplotlib, Seaborn and Plotly for visualization."
      ],
      "metadata": {
        "id": "M_GotnHs-gJo"
      }
    },
    {
      "cell_type": "code",
      "source": [
        "# The following settings will improve the default style and font sizes for our charts.\n",
        "\n",
        "%matplotlib inline\n",
        "sns.set_style('darkgrid')\n",
        "matplotlib.rcParams['font.size'] = 14\n",
        "matplotlib.rcParams['figure.figsize'] = (10, 6)\n",
        "matplotlib.rcParams['figure.facecolor'] = '#00000000'"
      ],
      "metadata": {
        "id": "T_-Tkn9i-jk4"
      },
      "execution_count": 13,
      "outputs": []
    },
    {
      "cell_type": "markdown",
      "source": [
        "### Seperate Date, Month, Year from Date Column"
      ],
      "metadata": {
        "id": "kFtWtcJ_TONb"
      }
    },
    {
      "cell_type": "code",
      "source": [
        "data['Date'] = pd.to_datetime(data['Date'])\n",
        "data['Day']=data['Date'].dt.day              # compute day\n",
        "data['Month']=data['Date'].dt.month          # compute month\n",
        "data['Year']=data['Date'].dt.year            # compute year\n",
        "data.drop(columns=[\"Date\"],inplace=True)"
      ],
      "metadata": {
        "id": "3uxk5SQ_7wjk"
      },
      "execution_count": 15,
      "outputs": []
    },
    {
      "cell_type": "markdown",
      "source": [
        "### Numerical Variables"
      ],
      "metadata": {
        "id": "wGcIGBvDq-Z3"
      }
    },
    {
      "cell_type": "code",
      "source": [
        "# list of numerical variables\n",
        "numerical_features = [feature for feature in data.columns if data[feature].dtypes != 'O']\n",
        "\n",
        "print('Number of numerical variables: ', len(numerical_features))\n",
        "# visualise the numerical variables\n",
        "data[numerical_features].head()"
      ],
      "metadata": {
        "id": "4FJr9wDT-k8D"
      },
      "execution_count": null,
      "outputs": []
    },
    {
      "cell_type": "markdown",
      "source": [
        "#### Numerical variables are usually of 2 type"
      ],
      "metadata": {
        "id": "5NtXk8vZCxZH"
      }
    },
    {
      "cell_type": "markdown",
      "source": [
        "####Discrete Variables"
      ],
      "metadata": {
        "id": "V1YRtBa2zGui"
      }
    },
    {
      "cell_type": "code",
      "source": [
        "## Lets analyse the discrete values by creating histograms to understand the distribution\n",
        "discrete_feature=[feature for feature in numerical_features if len(data[feature].unique())<25]\n",
        "print(\"Discrete Variables Count: {}\".format(len(discrete_feature)))\n",
        "\n",
        "## Lets Find the realtionship between them and Sale PRice\n",
        "for feature in discrete_feature:\n",
        "    dataset=data.copy()\n",
        "    dataset.groupby(feature)['Rented Bike Count'].median().plot.bar()\n",
        "    plt.xlabel(feature)\n",
        "    plt.ylabel('Rented Bike Count')\n",
        "    plt.title(feature)\n",
        "    plt.show()"
      ],
      "metadata": {
        "id": "McsDAWWqGqKS"
      },
      "execution_count": null,
      "outputs": []
    },
    {
      "cell_type": "markdown",
      "source": [
        "####Continuous Variables"
      ],
      "metadata": {
        "id": "SQs_2PMkH9Hs"
      }
    },
    {
      "cell_type": "code",
      "source": [
        "## Lets analyse the continuous values by creating histograms to understand the distribution\n",
        "continuous_feature=[feature for feature in numerical_features if feature not in discrete_feature]\n",
        "print(\"Continuous feature Count {}\".format(len(continuous_feature)))\n",
        "\n",
        "for feature in continuous_feature:\n",
        "    dataset=data.copy()\n",
        "   \n",
        "    sns.displot(dataset[feature],bins=25,color=\"r\",kde_kws={'linewidth':6,'color':'#4B0751'})\n",
        "    plt.xlabel(feature)\n",
        "    plt.ylabel(\"Count\")\n",
        "    plt.title(feature)\n",
        "    plt.show()"
      ],
      "metadata": {
        "colab": {
          "base_uri": "https://localhost:8080/",
          "height": 1000
        },
        "id": "MI1VaG24Gu8I",
        "outputId": "227dd82c-91b7-423f-d0f6-ceeb68059bbf"
      },
      "execution_count": 29,
      "outputs": [
        {
          "output_type": "stream",
          "name": "stdout",
          "text": [
            "Continuous feature Count 10\n"
          ]
        },
        {
          "output_type": "display_data",
          "data": {
            "text/plain": [
              "<Figure size 360x360 with 1 Axes>"
            ],
            "image/png": "[encoded data removed]"
          },
          "metadata": {
            "needs_background": "light"
          }
        },
        {
          "output_type": "display_data",
          "data": {
            "text/plain": [
              "<Figure size 360x360 with 1 Axes>"
            ],
            "image/png": "[encoded data removed]"
          },
          "metadata": {
            "needs_background": "light"
          }
        },
        {
          "output_type": "display_data",
          "data": {
            "text/plain": [
              "<Figure size 360x360 with 1 Axes>"
            ],
            "image/png": "[encoded data removed]"
          },
          "metadata": {
            "needs_background": "light"
          }
        },
        {
          "output_type": "display_data",
          "data": {
            "text/plain": [
              "<Figure size 360x360 with 1 Axes>"
            ],
            "image/png": "[encoded data removed]"
          },
          "metadata": {
            "needs_background": "light"
          }
        },
        {
          "output_type": "display_data",
          "data": {
            "text/plain": [
              "<Figure size 360x360 with 1 Axes>"
            ],
            "image/png": "[encoded data removed]"
          },
          "metadata": {
            "needs_background": "light"
          }
        },
        {
          "output_type": "display_data",
          "data": {
            "text/plain": [
              "<Figure size 360x360 with 1 Axes>"
            ],
            "image/png": "[encoded data removed]"
          },
          "metadata": {
            "needs_background": "light"
          }
        },
        {
          "output_type": "display_data",
          "data": {
            "text/plain": [
              "<Figure size 360x360 with 1 Axes>"
            ],
            "image/png": "[encoded data removed]"
          },
          "metadata": {
            "needs_background": "light"
          }
        },
        {
          "output_type": "display_data",
          "data": {
            "text/plain": [
              "<Figure size 360x360 with 1 Axes>"
            ],
            "image/png": "[encoded data removed]"
          },
          "metadata": {
            "needs_background": "light"
          }
        },
        {
          "output_type": "display_data",
          "data": {
            "text/plain": [
              "<Figure size 360x360 with 1 Axes>"
            ],
            "image/png": "[encoded data removed]"
          },
          "metadata": {
            "needs_background": "light"
          }
        },
        {
          "output_type": "display_data",
          "data": {
            "text/plain": [
              "<Figure size 360x360 with 1 Axes>"
            ],
            "image/png": "[encoded data removed]"
          },
          "metadata": {
            "needs_background": "light"
          }
        }
      ]
    },
    {
      "cell_type": "markdown",
      "source": [
        "* Bike sharing is at its peak between 4pm- 6pm\n",
        "\n",
        "* Bike shaing is least between 4am-6am.\n",
        "\n",
        "* Most preferred temperature for bike renting is 20-30 Degree Celcius.\n",
        "\n",
        "* Bike sharing is least when temperatur is < 5 and >35 Degree Celcius.\n",
        "\n",
        "* Humidity of 40%-60% is most favourable for bike sharing.\n",
        "\n",
        "* Wind speed of 1m/s -2 m/s is most favourable for bike sharing.\n",
        "\n",
        "* Bike sharing count is directly related to Visbility in the area.\n",
        "\n",
        "* Dew Point Temperature of 5-25 Degree Celcius is most favourable for bike sharing.\n",
        "\n",
        "* Optimum Solar Radiation, no rainfall and no snowfall leads to higher bike renting in Seoul."
      ],
      "metadata": {
        "id": "hM_ltpZtuaJQ"
      }
    },
    {
      "cell_type": "markdown",
      "source": [
        "### Categorical Variables"
      ],
      "metadata": {
        "id": "044dUIHNuE2S"
      }
    },
    {
      "cell_type": "code",
      "source": [
        "# list of categorical variables\n",
        "categorical_features = [feature for feature in data.columns if data[feature].dtypes == 'O']\n",
        "categorical_features = ['Seasons', 'Holiday', 'Functioning Day']\n",
        "print('Number of categorical variables: ', len(categorical_features))\n",
        "# visualise the categorical variables\n",
        "data[categorical_features].head()"
      ],
      "metadata": {
        "id": "kmTHM54QIGNq"
      },
      "execution_count": null,
      "outputs": []
    },
    {
      "cell_type": "code",
      "source": [
        "# Unique number of categorical features\n",
        "for feature in categorical_features:\n",
        "    print('The feature is {} and number of categories are {}'.format(feature,len(data[feature].unique())))"
      ],
      "metadata": {
        "colab": {
          "base_uri": "https://localhost:8080/"
        },
        "id": "72rP-1HZIKwS",
        "outputId": "caf9e89e-6f7c-4b40-e21b-38bb534f5d6a"
      },
      "execution_count": 20,
      "outputs": [
        {
          "output_type": "stream",
          "name": "stdout",
          "text": [
            "The feature is Seasons and number of categories are 4\n",
            "The feature is Holiday and number of categories are 2\n",
            "The feature is Functioning Day and number of categories are 2\n"
          ]
        }
      ]
    },
    {
      "cell_type": "code",
      "source": [
        "#Find out the relationship between categorical variable and dependent feature Rented Bike Count\n",
        "for feature in categorical_features:\n",
        "    dataset=data.copy()\n",
        "    dataset.groupby(feature)['Rented Bike Count'].median().plot.bar()\n",
        "    plt.xlabel(feature)\n",
        "    plt.ylabel('Rented Bike Count')\n",
        "    plt.title(feature)\n",
        "    plt.show()"
      ],
      "metadata": {
        "colab": {
          "base_uri": "https://localhost:8080/",
          "height": 1000
        },
        "id": "ZTbwvPqURyFG",
        "outputId": "d85969c7-a3c8-4ceb-bfb0-e8e776f4158d"
      },
      "execution_count": 30,
      "outputs": [
        {
          "output_type": "display_data",
          "data": {
            "text/plain": [
              "<Figure size 720x432 with 1 Axes>"
            ],
            "image/png": "[encoded data removed]"
          },
          "metadata": {
            "needs_background": "light"
          }
        },
        {
          "output_type": "display_data",
          "data": {
            "text/plain": [
              "<Figure size 720x432 with 1 Axes>"
            ],
            "image/png": "[encoded data removed]"
          },
          "metadata": {
            "needs_background": "light"
          }
        },
        {
          "output_type": "display_data",
          "data": {
            "text/plain": [
              "<Figure size 720x432 with 1 Axes>"
            ],
            "image/png": "[encoded data removed]"
          },
          "metadata": {
            "needs_background": "light"
          }
        }
      ]
    },
    {
      "cell_type": "markdown",
      "source": [
        "* Most number of Bikes are rented in Summer, followed by Autumn and Spring and Winter\n",
        "\n",
        "* People prefer booking bikes on Working days more than the Holidays\n",
        "\n",
        "* All the bikes were rented on the functioning day"
      ],
      "metadata": {
        "id": "AtrX3Ngst4Qf"
      }
    },
    {
      "cell_type": "markdown",
      "source": [
        "# Outliers"
      ],
      "metadata": {
        "id": "ntw-ehOYR9g1"
      }
    },
    {
      "cell_type": "code",
      "source": [
        "for feature in numerical_features:\n",
        "    dataset=data.copy()\n",
        "    if 0 in dataset[feature].unique():\n",
        "        pass\n",
        "    else:\n",
        "        dataset[feature]=np.log(dataset[feature])\n",
        "        dataset.boxplot(column=feature)\n",
        "        plt.ylabel(feature)\n",
        "        plt.title(feature)\n",
        "        plt.show()   "
      ],
      "metadata": {
        "id": "Zr5jYWdeR7uj"
      },
      "execution_count": null,
      "outputs": []
    },
    {
      "cell_type": "markdown",
      "source": [
        "# Step 2 - Prepare the Dataset for Training\n",
        "\n",
        "\n",
        "Before we can train the model, we need to prepare the dataset. Here are the steps we'll follow:\n",
        "\n",
        "1. Identify the input and target column(s) for training the model.\n",
        "2. Identify numeric and categorical input columns.\n",
        "3. [Impute](https://scikit-learn.org/stable/modules/impute.html) (fill) missing values in numeric columns\n",
        "4. [Scale](https://scikit-learn.org/stable/modules/preprocessing.html#scaling-features-to-a-range) values in numeric columns to a $(0,1)$ range.\n",
        "5. [Encode](https://scikit-learn.org/stable/modules/preprocessing.html#encoding-categorical-features) categorical data into one-hot vectors.\n",
        "6. Split the dataset into training and validation sets.\n"
      ],
      "metadata": {
        "id": "eKUtEBRrSTEW"
      }
    },
    {
      "cell_type": "markdown",
      "source": [
        "Date\n",
        "\n",
        "First, let's convert `Date` to a `datecolumn` and extract different parts of the date."
      ],
      "metadata": {
        "id": "2X5jbNTB7TU3"
      }
    },
    {
      "cell_type": "code",
      "source": [
        "def split_date(df):\n",
        "  df['Date'] = pd.to_datetime(df[\"Date\"])\n",
        "  df[\"Year\"] = df.Date.dt.year\n",
        "  df[\"Month\"] = df.Date.dt.month\n",
        "  df[\"Day\"] = df.Date.dt.day\n",
        "  df['Weekofyear']= df.Date.dt.isocalendar().week\n",
        "\n",
        "split_date(data)  "
      ],
      "metadata": {
        "id": "yMFOZ7D59SwR"
      },
      "execution_count": null,
      "outputs": []
    },
    {
      "cell_type": "markdown",
      "metadata": {
        "id": "bElq66mW056r"
      },
      "source": [
        "## Identify Inputs and Targets\n",
        "\n",
        "While the dataset contains `18` columns, not all of them are useful for modeling. Note the following:\n",
        "\n",
        "- The first column is `date` and isn't useful for training the model.\n",
        "- The second column `Rented Bike Count` contains the value we need to predict i.e. it's the target column.\n",
        "- Data from all the other columns (except the first and the last column) can be used as inputs to the model.\n",
        " "
      ]
    },
    {
      "cell_type": "markdown",
      "metadata": {
        "id": "b_xQivAX1YU2"
      },
      "source": [
        ">Create a list `input_cols` of column names containing data that can be used as input to train the model, and identify the target column as the variable `target_col`."
      ]
    },
    {
      "cell_type": "code",
      "source": [
        "# Identify the input columns (a list of column names)\n",
        "input_cols=list(data.columns)[2:]\n",
        "# Identify the name of the target column \n",
        "target_cols=list(data.columns)[1]"
      ],
      "metadata": {
        "id": "9to9JZGF-6iC"
      },
      "execution_count": null,
      "outputs": []
    },
    {
      "cell_type": "code",
      "source": [
        "# It always a good practice whatever code u execute, print and check it \n",
        "input_cols"
      ],
      "metadata": {
        "id": "6Sh3Lv0m-7P_"
      },
      "execution_count": null,
      "outputs": []
    },
    {
      "cell_type": "code",
      "source": [
        "# It always a good practice whatever code u execute, print and check it \n",
        "target_cols"
      ],
      "metadata": {
        "id": "Qea3qpZq-_8L"
      },
      "execution_count": null,
      "outputs": []
    },
    {
      "cell_type": "markdown",
      "source": [
        ">Make sure that the `Date` and `Rented Bike Count` columns are not included in `input_cols`.\n",
        "\n",
        "Now that we've identified the input and target columns, we can separate input & target data."
      ],
      "metadata": {
        "id": "E-yJ6lBr_a8h"
      }
    },
    {
      "cell_type": "code",
      "source": [
        "# Separate input & target data\n",
        "inputs_df = data[input_cols] \n",
        "targets = data[target_cols]"
      ],
      "metadata": {
        "id": "qvUe9XgU_c6_"
      },
      "execution_count": null,
      "outputs": []
    },
    {
      "cell_type": "code",
      "source": [
        "# It always a good practice whatever code u execute, print and check it \n",
        "inputs_df"
      ],
      "metadata": {
        "id": "EyvTfyHAAEaR"
      },
      "execution_count": null,
      "outputs": []
    },
    {
      "cell_type": "code",
      "source": [
        "# It always a good practice whatever code u execute, print and check it \n",
        "targets"
      ],
      "metadata": {
        "id": "5DLpE4JXAP-c"
      },
      "execution_count": null,
      "outputs": []
    },
    {
      "cell_type": "markdown",
      "metadata": {
        "id": "3Veak_BR2amh"
      },
      "source": [
        ">Create two lists `numeric_cols` and `categorical_cols` containing names of numeric and categorical input columns within the dataframe respectively. Numeric columns have data types `int64` and `float64`, whereas categorical columns have the data type `object`.\n",
        "*italicized text*"
      ]
    },
    {
      "cell_type": "code",
      "source": [
        "# identifying Numerical and Categorical columns\n",
        "numeric_cols = inputs_df.select_dtypes(include=np.number).columns.tolist()\n",
        "categorical_cols= inputs_df.select_dtypes(include=[object]).columns.tolist()"
      ],
      "metadata": {
        "id": "W-m_WxcgApe1"
      },
      "execution_count": null,
      "outputs": []
    },
    {
      "cell_type": "code",
      "source": [
        "# It always a good practice whatever code u execute, print and check it \n",
        "numeric_cols"
      ],
      "metadata": {
        "id": "if_gmmvMtcQH"
      },
      "execution_count": null,
      "outputs": []
    },
    {
      "cell_type": "code",
      "source": [
        "# It always a good practice whatever code u execute, print and check it \n",
        "categorical_cols"
      ],
      "metadata": {
        "id": "4e_F9kYqteva"
      },
      "execution_count": null,
      "outputs": []
    },
    {
      "cell_type": "markdown",
      "source": [
        "##Scale Numerical Values\n",
        "The numeric columns in our dataset have varying ranges."
      ],
      "metadata": {
        "id": "oHEpKh1atnJv"
      }
    },
    {
      "cell_type": "code",
      "source": [
        "# using isna() to calculate the null values in Numeric columns\n",
        "inputs_df[numeric_cols].describe().loc[['min','max']]"
      ],
      "metadata": {
        "id": "DuqChwZsthI0"
      },
      "execution_count": null,
      "outputs": []
    },
    {
      "cell_type": "markdown",
      "metadata": {
        "id": "JzIeV9sn4AjP"
      },
      "source": [
        "A good practice is to [scale numeric features](https://scikit-learn.org/stable/modules/preprocessing.html#scaling-features-to-a-range) to a small range of values e.g. $(0,1)$. Scaling numeric features ensures that no particular feature has a disproportionate impact on the model's loss. Optimization algorithms also work better in practice with smaller numbers.\n"
      ]
    },
    {
      "cell_type": "markdown",
      "metadata": {
        "id": "6RLgxsPz4Eo3"
      },
      "source": [
        ">Scale numeric values to the $(0, 1)$ range using `MinMaxScaler` from `sklearn.preprocessing`."
      ]
    },
    {
      "cell_type": "code",
      "source": [
        "from sklearn.preprocessing import MinMaxScaler\n",
        "# Create the scaler\n",
        "scaler=MinMaxScaler()\n",
        "# Fit the scaler to the numeric columns\n",
        "scaler.fit(inputs_df[numeric_cols])\n",
        "# Transform and replace the numeric columns\n",
        "inputs_df[numeric_cols] = scaler.transform(inputs_df[numeric_cols])"
      ],
      "metadata": {
        "id": "xZ0F5PVrufDY"
      },
      "execution_count": null,
      "outputs": []
    },
    {
      "cell_type": "markdown",
      "metadata": {
        "id": "G0ak16Gm4oar"
      },
      "source": [
        "\n",
        "After scaling, the ranges of all numeric columns should be (0, 1)."
      ]
    },
    {
      "cell_type": "code",
      "source": [
        "# using isna() to calculate the null values in Numeric columns\n",
        "inputs_df[numeric_cols].describe().loc[['min','max']]"
      ],
      "metadata": {
        "id": "tMZUVqgpt2vA"
      },
      "execution_count": null,
      "outputs": []
    },
    {
      "cell_type": "markdown",
      "metadata": {
        "id": "LxIZsgUz4vyB"
      },
      "source": [
        "##Encode Categorical Columns\n",
        "Our dataset contains several categorical columns, each with a different number of categories."
      ]
    },
    {
      "cell_type": "code",
      "source": [
        "# Printing unique Categorical columns \n",
        "inputs_df[categorical_cols].nunique().sort_values(ascending=False)"
      ],
      "metadata": {
        "id": "tv0C9J8i0SQJ"
      },
      "execution_count": null,
      "outputs": []
    },
    {
      "cell_type": "markdown",
      "metadata": {
        "id": "0g2D4dNV5Dfq"
      },
      "source": [
        "\n",
        "\n",
        "Since machine learning models can only be trained with numeric data, we need to convert categorical data to numbers. A common technique is to use one-hot encoding for categorical columns.\n",
        "\n",
        "<img src=\"https://i.imgur.com/n8GuiOO.png\" width=\"640\">\n",
        "\n",
        "One hot encoding involves adding a new binary (0/1) column for each unique category of a categorical column."
      ]
    },
    {
      "cell_type": "markdown",
      "metadata": {
        "id": "puO6ylBG5HH3"
      },
      "source": [
        ">Encode categorical columns in the dataset as one-hot vectors using `OneHotEncoder` from `sklearn.preprocessing`. Add a new binary (0/1) column for each category"
      ]
    },
    {
      "cell_type": "code",
      "source": [
        "from sklearn.preprocessing import OneHotEncoder\n",
        "\n",
        "# 1. Create the encoder\n",
        "encoder=OneHotEncoder(sparse=False, handle_unknown= \"ignore\")\n",
        "# 2. Fit the encoder to thr categorical columns\n",
        "encoder.fit(inputs_df[categorical_cols])\n",
        "# 3. Generate column names for each category\n",
        "encoded_cols= list(encoder.get_feature_names(categorical_cols))\n",
        "# 4. Transform and add new one-hot category columns\n",
        "inputs_df[encoded_cols] = encoder.transform(inputs_df[categorical_cols])"
      ],
      "metadata": {
        "id": "ljNPUwdN0hRG"
      },
      "execution_count": null,
      "outputs": []
    },
    {
      "cell_type": "markdown",
      "metadata": {
        "id": "x0cGnCvv6TsQ"
      },
      "source": [
        "The new one-hot category columns should now be added to `inputs_df`."
      ]
    },
    {
      "cell_type": "code",
      "source": [
        "input = inputs_df[numeric_cols + encoded_cols]\n",
        "target = targets"
      ],
      "metadata": {
        "id": "ajbsCcvy8abf"
      },
      "execution_count": null,
      "outputs": []
    },
    {
      "cell_type": "markdown",
      "source": [
        "##Feature Selection"
      ],
      "metadata": {
        "id": "FiSDC5twOJpU"
      }
    },
    {
      "cell_type": "code",
      "source": [
        "from sklearn.linear_model import Lasso\n",
        "from sklearn.feature_selection import SelectFromModel\n",
        "# to visualise al the columns in the dataframe\n",
        "pd.pandas.set_option('display.max_columns', None)\n",
        "\n",
        "### Apply Feature Selection\n",
        "# first, I specify the Lasso Regression model, and I\n",
        "# select a suitable alpha (equivalent of penalty).\n",
        "# The bigger the alpha the less features that will be selected.\n",
        "\n",
        "# Then I use the selectFromModel object from sklearn, which\n",
        "# will select the features which coefficients are non-zero\n",
        "\n",
        "feature_sel_model = SelectFromModel(Lasso(alpha=0.005, random_state=0)) # remember to set the seed, the random state in this function\n",
        "feature_sel_model.fit(input, target)\n"
      ],
      "metadata": {
        "id": "qwaTY7mK8u0J"
      },
      "execution_count": null,
      "outputs": []
    },
    {
      "cell_type": "code",
      "source": [
        "feature_sel_model.get_support()"
      ],
      "metadata": {
        "id": "oH_KcA8R9IEO"
      },
      "execution_count": null,
      "outputs": []
    },
    {
      "cell_type": "code",
      "source": [
        "# let's print the number of total and selected features\n",
        "# this is how we can make a list of the selected features\n",
        "selected_feat = input.columns[(feature_sel_model.get_support())]\n",
        "\n",
        "# let's print some stats\n",
        "print('total features: {}'.format((input.shape[1])))\n",
        "print('selected features: {}'.format(len(selected_feat)))"
      ],
      "metadata": {
        "id": "qySvq_NR9yvm"
      },
      "execution_count": null,
      "outputs": []
    },
    {
      "cell_type": "code",
      "source": [
        "selected_feat\n"
      ],
      "metadata": {
        "id": "yXPJHpNUB-C4"
      },
      "execution_count": null,
      "outputs": []
    },
    {
      "cell_type": "code",
      "source": [
        "input=input[selected_feat]\n",
        "input"
      ],
      "metadata": {
        "id": "nfg25e_eCDM7"
      },
      "execution_count": null,
      "outputs": []
    },
    {
      "cell_type": "markdown",
      "metadata": {
        "id": "iK4c5uqE6WWc"
      },
      "source": [
        "##Training and Validation Set\n",
        "Finally, let's split the dataset into a training and validation set. We'll use a randomly select 25% subset of the data for validation. Also, we'll use just the numeric and encoded columns, since the inputs to our model must be numbers."
      ]
    },
    {
      "cell_type": "code",
      "source": [
        "# Import train_test_split from sklearn library to make split of data into train sets and validation sets\n",
        "from sklearn.model_selection import train_test_split\n",
        "train_inputs, val_inputs, train_targets, val_targets = train_test_split(input,target,test_size=0.25,random_state=42)"
      ],
      "metadata": {
        "id": "evN8FFuMCP1q"
      },
      "execution_count": null,
      "outputs": []
    },
    {
      "cell_type": "code",
      "source": [
        "# It always a good practice to print and check the executed codes.\n",
        "train_inputs"
      ],
      "metadata": {
        "id": "yqWHSlSSCmWX"
      },
      "execution_count": null,
      "outputs": []
    },
    {
      "cell_type": "code",
      "source": [
        "# It always a good practice to print and check the executed codes.\n",
        "train_targets"
      ],
      "metadata": {
        "id": "7NPq3y_ECtg9"
      },
      "execution_count": null,
      "outputs": []
    },
    {
      "cell_type": "code",
      "source": [
        "# It always a good practice to print and check the executed codes.\n",
        "val_inputs"
      ],
      "metadata": {
        "id": "j3XO5zR1DWg9"
      },
      "execution_count": null,
      "outputs": []
    },
    {
      "cell_type": "code",
      "source": [
        "# It always a good practice to print and check the executed codes.\n",
        "val_targets"
      ],
      "metadata": {
        "id": "RvxKJZu1DXTG"
      },
      "execution_count": null,
      "outputs": []
    },
    {
      "cell_type": "markdown",
      "source": [
        "# Models"
      ],
      "metadata": {
        "id": "5oullazxRSHn"
      }
    },
    {
      "cell_type": "code",
      "source": [
        "from sklearn.linear_model import LinearRegression\n",
        "from sklearn.linear_model import Ridge\n",
        "from sklearn.linear_model import Lasso\n",
        "from sklearn import neighbors\n",
        "from sklearn.svm import SVR\n",
        "from sklearn.tree import DecisionTreeRegressor\n",
        "from sklearn.ensemble import RandomForestRegressor\n",
        "from sklearn.ensemble import ExtraTreesRegressor\n",
        "from sklearn.ensemble import GradientBoostingRegressor\n",
        "import xgboost as xgb\n",
        "from xgboost import plot_importance\n",
        "import lightgbm "
      ],
      "metadata": {
        "id": "ZCJe5GBeDgSN"
      },
      "execution_count": null,
      "outputs": []
    },
    {
      "cell_type": "code",
      "source": [
        "models = [\n",
        "           ['LinearRegression: ',              LinearRegression()],\n",
        "           ['Lasso: ',                         Lasso()],\n",
        "           ['Ridge: ',                         Ridge()],\n",
        "           ['KNeighborsRegressor: ',           neighbors.KNeighborsRegressor()],\n",
        "           ['SVR:' ,                           SVR(kernel='rbf')],\n",
        "           ['DecisionTree ',                   DecisionTreeRegressor(random_state=42)],\n",
        "           ['RandomForest ',                   RandomForestRegressor(random_state=42)],\n",
        "           ['ExtraTreeRegressor :',            ExtraTreesRegressor(random_state=42)],\n",
        "           ['GradientBoostingRegressor: ',     GradientBoostingRegressor(random_state=42)],\n",
        "           ['XGBRegressor: ',                  xgb.XGBRegressor(random_state=42)] ,\n",
        "           ['Light-GBM: ',                     lightgbm.LGBMRegressor(num_leaves=41, n_estimators=200,random_state=42)],\n",
        "]"
      ],
      "metadata": {
        "id": "qdXOHAYRHLbK"
      },
      "execution_count": null,
      "outputs": []
    },
    {
      "cell_type": "code",
      "source": [
        "# Run all the proposed models and update the information in a list model_data\n",
        "import time\n",
        "from math import sqrt\n",
        "from sklearn import metrics\n",
        "\n",
        "model_data = []\n",
        "for name,model in models :\n",
        "\n",
        "    model_data_dic = {}\n",
        "    model_data_dic[\"Name\"] = name\n",
        "\n",
        "    start = time.time()\n",
        "    end = time.time()\n",
        "\n",
        "    model.fit(train_inputs,train_targets)\n",
        "    \n",
        "    model_data_dic[\"Train_Time\"] = end - start\n",
        "    # Training set\n",
        "    model_data_dic[\"Train_R2_Score\"] = metrics.r2_score(train_targets,model.predict(train_inputs))\n",
        "    model_data_dic[\"Train_RMSE_Score\"] = metrics.mean_squared_error(train_targets,model.predict(train_inputs),squared=False)\n",
        "    # Validation set\n",
        "    model_data_dic[\"Test_R2_Score\"] = metrics.r2_score(val_targets,model.predict(val_inputs))\n",
        "    model_data_dic[\"Test_RMSE_Score\"] = metrics.mean_squared_error(val_targets,model.predict(val_inputs),squared=False)\n",
        "\n",
        "    model_data.append(model_data_dic)"
      ],
      "metadata": {
        "id": "DqqX7LrRHYsh"
      },
      "execution_count": null,
      "outputs": []
    },
    {
      "cell_type": "code",
      "source": [
        "# Convert list to dataframe\n",
        "df = pd.DataFrame(model_data)\n",
        "df"
      ],
      "metadata": {
        "id": "j0JEiVUeI1zv"
      },
      "execution_count": null,
      "outputs": []
    },
    {
      "cell_type": "markdown",
      "source": [
        "As we can see clearly out of 11 models Lightgbm, ExtraTree and XGboost give as max R2 score and Less RMSE on test set. "
      ],
      "metadata": {
        "id": "W9V0tET2YY6v"
      }
    },
    {
      "cell_type": "markdown",
      "source": [
        "> Create a function to calculate performance metrics "
      ],
      "metadata": {
        "id": "S8_fffzoSJta"
      }
    },
    {
      "cell_type": "code",
      "source": [
        "# Import metrics from sklearn library\n",
        "from sklearn import metrics\n",
        "\n",
        "def evaluate_train(model, train_inputs,train_targets):\n",
        "    # Prediction on Train inputs\n",
        "    predictions = model.predict(train_inputs)\n",
        "    print('Train_Data - Model Performance')\n",
        "    print('Root Mean Squared Error (RMSE):', metrics.mean_squared_error(train_targets, predictions, squared=False))\n",
        "    print('R^2:', metrics.r2_score(train_targets, predictions))\n",
        "\n",
        "\n",
        "def evaluate_val(model, val_inputs,val_targets):\n",
        "    # Prediction on val inputs\n",
        "    predictions = model.predict(val_inputs)\n",
        "    print('Validation_data - Model Performance')\n",
        "    print('Root Mean Squared Error (RMSE):', metrics.mean_squared_error(val_targets, predictions, squared=False))\n",
        "    print('R^2:', metrics.r2_score(val_targets, predictions))   \n"
      ],
      "metadata": {
        "id": "8KSuZsGGJkrg"
      },
      "execution_count": null,
      "outputs": []
    },
    {
      "cell_type": "markdown",
      "source": [
        "# Model-1 ExtraTreeRegressor"
      ],
      "metadata": {
        "id": "twLmVVf6bIHB"
      }
    },
    {
      "cell_type": "markdown",
      "source": [
        ">Training"
      ],
      "metadata": {
        "id": "_lx5I-Kkbwqu"
      }
    },
    {
      "cell_type": "code",
      "source": [
        "from sklearn.ensemble import ExtraTreesRegressor\n",
        "num_trees = 100\n",
        "# Create the model\n",
        "base_model = ExtraTreesRegressor(n_estimators=num_trees)\n",
        "# Fit the model\n",
        "base_model.fit(train_inputs,train_targets)"
      ],
      "metadata": {
        "id": "5NvLSOuzKh61"
      },
      "execution_count": null,
      "outputs": []
    },
    {
      "cell_type": "markdown",
      "source": [
        "> Evaluate"
      ],
      "metadata": {
        "id": "PDQR-6TPbzZb"
      }
    },
    {
      "cell_type": "code",
      "source": [
        "evaluate_train(base_model, train_inputs,train_targets)"
      ],
      "metadata": {
        "id": "0hg4dWKiLY5x"
      },
      "execution_count": null,
      "outputs": []
    },
    {
      "cell_type": "code",
      "source": [
        "evaluate_val(base_model, val_inputs,val_targets)"
      ],
      "metadata": {
        "id": "dUunF0bHMaTp"
      },
      "execution_count": null,
      "outputs": []
    },
    {
      "cell_type": "markdown",
      "source": [
        "## Hyperparameter Tuning\n",
        "\n",
        "Just like decision trees, random forests also have several hyperparameters. In fact many of these hyperparameters are applied to the underlying decision trees. \n",
        "\n",
        "Let's study some the hyperparameters for random forests. You can learn more about them here."
      ],
      "metadata": {
        "id": "0ISHJMU0eVvk"
      }
    },
    {
      "cell_type": "markdown",
      "source": [
        ">RandomSearch\n",
        "* As the name suggests the RandomSearch algorithm tries random combinations of a range\n",
        "of values of given parameters. The numerical parameters can be specified as a range\n",
        "(unlike fixed values in GridSearch). You can control the number of iterations of random\n",
        "searches that you would like to perform. It is known to find a very good combination in a\n",
        "lot less time compared to GridSearch; however you have to carefully choose the range for\n",
        "parameters and the number of random search iteration as it can miss the best parameter\n",
        "combination with lesser iterations or smaller ranges.\n",
        "Let’s try the RandomSearchCV for same combination that we tried for GridSearch\n",
        "and compare the time / accuracy."
      ],
      "metadata": {
        "id": "6iHYG-oWet2y"
      }
    },
    {
      "cell_type": "code",
      "source": [
        "from sklearn.model_selection import RandomizedSearchCV\n",
        "from sklearn.model_selection import GridSearchCV\n",
        "from sklearn.model_selection import cross_val_score\n",
        "\n",
        "# Create the random grid\n",
        "random_grid ={'bootstrap': [True, False],\n",
        "              'max_depth': [10, 20, 30, 40, 50, 60, 70, 80, 90, 100, None],\n",
        "              'max_features': ['auto', 'sqrt'],\n",
        "              'min_samples_leaf': [1, 2, 4],\n",
        "              'min_samples_split': [2, 5, 10],\n",
        "              'n_estimators': [200, 400, 600, 800, 1000]}\n",
        "\n",
        "RF = ExtraTreesRegressor(n_jobs=-1, random_state=42)              \n",
        "\n",
        "# Random search of parameters, using 3 fold cross validation,\n",
        "random_search = RandomizedSearchCV(estimator = RF, \n",
        "                                   param_distributions = random_grid, \n",
        "                                   n_iter = 100, cv = 3, verbose=2)\n",
        "# Fit the random search model\n",
        "random_search.fit(train_inputs, train_targets)"
      ],
      "metadata": {
        "id": "hq8oP3TiSsON"
      },
      "execution_count": null,
      "outputs": []
    },
    {
      "cell_type": "code",
      "source": [
        "#We can view the best parameters from fitting the random search\n",
        "best_random_search= random_search.best_params_\n",
        "best_random_search"
      ],
      "metadata": {
        "id": "h7fOEPMkFo4-"
      },
      "execution_count": null,
      "outputs": []
    },
    {
      "cell_type": "code",
      "source": [
        "best_random = random_search.best_estimator_\n",
        "\n",
        "random_accuracy = evaluate_val(best_random, val_inputs, val_targets)"
      ],
      "metadata": {
        "id": "rcHAOVIQFuOx"
      },
      "execution_count": null,
      "outputs": []
    },
    {
      "cell_type": "code",
      "source": [
        "evaluate_train(best_random, train_inputs, train_targets)"
      ],
      "metadata": {
        "id": "pxAvibMvFxLT"
      },
      "execution_count": null,
      "outputs": []
    },
    {
      "cell_type": "code",
      "source": [
        "base_model = ExtraTreesRegressor(n_jobs=-1, random_state=42)\n",
        "base_model.fit(train_inputs, train_targets)\n",
        "base_accuracy = evaluate_train(base_model, val_inputs, val_targets)"
      ],
      "metadata": {
        "id": "DbnPLKwWFz6W"
      },
      "execution_count": null,
      "outputs": []
    },
    {
      "cell_type": "code",
      "source": [
        "print('Improvement of {:0.2f}%.'.format( 100 * (0.8809 - 0.8773) / 0.8773))"
      ],
      "metadata": {
        "id": "cViKWTzSF1_Q"
      },
      "execution_count": null,
      "outputs": []
    },
    {
      "cell_type": "markdown",
      "source": [
        "Training the Best Model with custom Hyperparameters\n",
        "\n",
        ">  Train a random forest regressor model with the best hyperparameters to minimize the validation loss."
      ],
      "metadata": {
        "id": "_nCAVVo7gEIZ"
      }
    },
    {
      "cell_type": "code",
      "source": [
        "# Create the model with custom hyperparameters\n",
        "model = ExtraTreesRegressor(random_state=42, n_jobs=-1,max_depth=90,\n",
        "                                    max_features=0.6,n_estimators=1000,min_samples_leaf=1,min_samples_split=2)\n",
        "# Fit the model\n",
        "model.fit(train_inputs,train_targets)"
      ],
      "metadata": {
        "id": "7eCVroL9F9FM"
      },
      "execution_count": null,
      "outputs": []
    },
    {
      "cell_type": "code",
      "source": [
        "# Training set\n",
        "evaluate_train(model, train_inputs,train_targets)\n",
        "\n",
        "# Validation set\n",
        "evaluate_val(model, val_inputs,val_targets)"
      ],
      "metadata": {
        "id": "fwfm9M_gF9tn"
      },
      "execution_count": null,
      "outputs": []
    },
    {
      "cell_type": "markdown",
      "source": [
        "**Visualization**\n",
        "\n",
        "We can visualize the decision tree _learned_ from the training data.\n",
        "We can can access individual decision trees using `model.estimators_`"
      ],
      "metadata": {
        "id": "TZWxQjFSgcFo"
      }
    },
    {
      "cell_type": "code",
      "source": [
        "model.estimators_[0]"
      ],
      "metadata": {
        "id": "YnHHrXGNGD4w"
      },
      "execution_count": null,
      "outputs": []
    },
    {
      "cell_type": "code",
      "source": [
        "# Import plot_tree from sklearn library\n",
        "from sklearn.tree import plot_tree\n",
        "\n",
        "plt.figure(figsize=(80,20))\n",
        "plot_tree(model.estimators_[0], max_depth=2, feature_names=train_inputs.columns, filled=True, rounded=True, );"
      ],
      "metadata": {
        "id": "yOp7PN5SGIKS"
      },
      "execution_count": null,
      "outputs": []
    },
    {
      "cell_type": "markdown",
      "source": [
        "Feature Importance\n",
        "Just like decision tree, random forests also assign an \"importance\" to each feature, by combining the importance values from individual trees."
      ],
      "metadata": {
        "id": "aO9NLGx_grmR"
      }
    },
    {
      "cell_type": "code",
      "source": [
        "# Important features or coefficient of the model\n",
        "model.feature_importances_"
      ],
      "metadata": {
        "id": "LaFwDs4lXHEV"
      },
      "execution_count": null,
      "outputs": []
    },
    {
      "cell_type": "code",
      "source": [
        "importance_df = pd.DataFrame({\n",
        "    'feature': train_inputs.columns,\n",
        "    'importance': model.feature_importances_\n",
        "}).sort_values('importance', ascending=False)"
      ],
      "metadata": {
        "id": "OPbxfXH6ZZp9"
      },
      "execution_count": null,
      "outputs": []
    },
    {
      "cell_type": "code",
      "source": [
        "importance_df"
      ],
      "metadata": {
        "id": "tS4JWOIeZf5S"
      },
      "execution_count": null,
      "outputs": []
    },
    {
      "cell_type": "code",
      "source": [
        "# Visualize the Feature Importance on bar plot\n",
        "plt.title('Feature Importance')\n",
        "sns.barplot(data=importance_df.head(10), x='importance', y='feature');"
      ],
      "metadata": {
        "id": "PzHwdLLGZmBe"
      },
      "execution_count": null,
      "outputs": []
    },
    {
      "cell_type": "markdown",
      "source": [
        "# Model 2 - Light GBM \n",
        "LightGBM is a gradient boosting framework that uses tree based learning algorithms. It is designed to be distributed and efficient with the following advantages:\n",
        "\n",
        "* Faster training speed and higher efficiency.\n",
        "* Lower memory usage.\n",
        "* Better accuracy.\n",
        "* Support of parallel, distributed, and GPU learning.\n",
        "* Capable of handling large-scale data."
      ],
      "metadata": {
        "id": "6-0jkpqE7ss7"
      }
    },
    {
      "cell_type": "code",
      "source": [
        "import lightgbm \n",
        "# create the model\n",
        "LGBM=lightgbm.LGBMRegressor(random_state=42)\n",
        "# Fit the model\n",
        "LGBM.fit(train_inputs,train_targets)"
      ],
      "metadata": {
        "id": "LVV7-iG0BCO3"
      },
      "execution_count": null,
      "outputs": []
    },
    {
      "cell_type": "code",
      "source": [
        "# Training set\n",
        "evaluate_train(LGBM,train_inputs,train_targets)\n",
        "\n",
        "# Validation set\n",
        "evaluate_val(LGBM,val_inputs,val_targets)"
      ],
      "metadata": {
        "id": "dwIKH76CBFi3"
      },
      "execution_count": null,
      "outputs": []
    },
    {
      "cell_type": "markdown",
      "source": [
        "## Hyperparameter Tuning"
      ],
      "metadata": {
        "id": "wBbWQFF2ogv2"
      }
    },
    {
      "cell_type": "code",
      "source": [
        "# Install Optuna in Collab\n",
        "!pip install optuna"
      ],
      "metadata": {
        "id": "NvpDnItONGTV"
      },
      "execution_count": null,
      "outputs": []
    },
    {
      "cell_type": "code",
      "source": [
        "import optuna\n",
        "from optuna import Trial, visualization\n",
        "from optuna.samplers import TPESampler\n",
        "from sklearn import metrics\n",
        "def objective(trial,data=data):\n",
        "    \n",
        "   \n",
        "    param = {\n",
        "        'metric': 'rmse', \n",
        "        'random_state': 42,\n",
        "        'n_estimators': 10000,\n",
        "        'reg_alpha': trial.suggest_loguniform('reg_alpha', 1e-3, 10.0),\n",
        "        'reg_lambda': trial.suggest_loguniform('reg_lambda', 1e-3, 10.0),\n",
        "        'colsample_bytree': trial.suggest_categorical('colsample_bytree', [0.3,0.4,0.5,0.6,0.7,0.8,0.9, 1.0]),\n",
        "        'subsample': trial.suggest_categorical('subsample', [0.4,0.5,0.6,0.7,0.8,1.0]),\n",
        "        'learning_rate': trial.suggest_categorical('learning_rate', [0.006,0.008,0.01,0.014,0.017,0.02]),\n",
        "        'max_depth': trial.suggest_categorical('max_depth', [10,20,100]),\n",
        "        'num_leaves' : trial.suggest_int('num_leaves', 1, 1000),\n",
        "        'min_child_samples': trial.suggest_int('min_child_samples', 1, 300),\n",
        "        'cat_smooth' : trial.suggest_int('min_data_per_groups', 1, 100)\n",
        "    }\n",
        "\n",
        "    model = lightgbm.LGBMRegressor(**param)  \n",
        "    model.fit(train_inputs,train_targets,eval_set=[(val_inputs,val_targets)],early_stopping_rounds=100,verbose=False)\n",
        "    \n",
        "    preds = model.predict(val_inputs)\n",
        "    rmse = metrics.mean_squared_error(val_targets, preds,squared=False)\n",
        "    \n",
        "    return rmse"
      ],
      "metadata": {
        "id": "1qf8Ylt9BNJR"
      },
      "execution_count": null,
      "outputs": []
    },
    {
      "cell_type": "code",
      "source": [
        "study = optuna.create_study(direction='minimize')\n",
        "study.optimize(objective, n_trials=200,show_progress_bar = True)"
      ],
      "metadata": {
        "id": "f6cjeVKlDEGG"
      },
      "execution_count": null,
      "outputs": []
    },
    {
      "cell_type": "code",
      "source": [
        "base_model = lightgbm.LGBMRegressor(random_state=42)\n",
        "base_model.fit(train_inputs, train_targets)\n",
        "base_accuracy = evaluate_val(base_model, val_inputs,val_targets)"
      ],
      "metadata": {
        "id": "3is1zX7lDLNR"
      },
      "execution_count": null,
      "outputs": []
    },
    {
      "cell_type": "code",
      "source": [
        "tune_model = lightgbm.LGBMRegressor(reg_alpha= 0.729018790815961, reg_lambda= 0.009129369176067088, colsample_bytree= 0.8,\n",
        "                                    subsample= 0.6, learning_rate= 0.008, max_depth= 20,num_leaves=59,min_child_samples=1,\n",
        "                                    min_data_per_groups= 18,n_estimators=10000,random_state=42)\n",
        "tune_model.fit(train_inputs, train_targets)\n",
        "tune_accuracy = evaluate_val(tune_model, val_inputs,val_targets)"
      ],
      "metadata": {
        "id": "zoDGrkfRDOrf"
      },
      "execution_count": null,
      "outputs": []
    },
    {
      "cell_type": "code",
      "source": [
        "print('Improvement of {:0.2f}%.'.format( 100 * ("
      ],
      "metadata": {
        "id": "i52XqpL9DRbd"
      },
      "execution_count": null,
      "outputs": []
    },
    {
      "cell_type": "code",
      "source": [
        "#plot_optimization_histor: shows the scores from all trials as well as the best score so far at each point.\n",
        "optuna.visualization.plot_optimization_history(study)"
      ],
      "metadata": {
        "id": "aS7VmjorDaXm"
      },
      "execution_count": null,
      "outputs": []
    },
    {
      "cell_type": "code",
      "source": [
        "#plot_parallel_coordinate: interactively visualizes the hyperparameters and scores\n",
        "optuna.visualization.plot_parallel_coordinate(study)"
      ],
      "metadata": {
        "id": "qQauzreeDfNw"
      },
      "execution_count": null,
      "outputs": []
    },
    {
      "cell_type": "code",
      "source": [
        "#Visualize parameter importances.\n",
        "optuna.visualization.plot_param_importances(study)"
      ],
      "metadata": {
        "id": "p8CKKr4sDTo8"
      },
      "execution_count": null,
      "outputs": []
    }
  ]
}